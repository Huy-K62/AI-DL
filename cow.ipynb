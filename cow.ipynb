{
  "nbformat": 4,
  "nbformat_minor": 0,
  "metadata": {
    "colab": {
      "name": "cow.ipynb",
      "provenance": [],
      "authorship_tag": "ABX9TyNUFBrYywWdMiSXqw7n1ky3",
      "include_colab_link": true
    },
    "kernelspec": {
      "name": "python3",
      "display_name": "Python 3"
    },
    "language_info": {
      "name": "python"
    },
    "accelerator": "GPU"
  },
  "cells": [
    {
      "cell_type": "markdown",
      "metadata": {
        "id": "view-in-github",
        "colab_type": "text"
      },
      "source": [
        "<a href=\"https://colab.research.google.com/github/Huy-K62/AI-DL/blob/main/cow.ipynb\" target=\"_parent\"><img src=\"https://colab.research.google.com/assets/colab-badge.svg\" alt=\"Open In Colab\"/></a>"
      ]
    },
    {
      "cell_type": "code",
      "execution_count": 2,
      "metadata": {
        "colab": {
          "base_uri": "https://localhost:8080/"
        },
        "id": "phgYPtqwjqFk",
        "outputId": "8dfd5d2a-6bee-495c-e28d-ac3a7e280a07"
      },
      "outputs": [
        {
          "output_type": "stream",
          "name": "stdout",
          "text": [
            "Mounted at /content/gdrive\n"
          ]
        }
      ],
      "source": [
        "from google.colab import drive\n",
        "drive.mount('/content/gdrive')"
      ]
    },
    {
      "cell_type": "code",
      "source": [
        "cd /content/gdrive/MyDrive/cow-detection-finetune-mxnet\n"
      ],
      "metadata": {
        "colab": {
          "base_uri": "https://localhost:8080/"
        },
        "id": "GIgroH4mkOFC",
        "outputId": "6f04068c-8611-46f2-9f80-d8ff8dffe63d"
      },
      "execution_count": 3,
      "outputs": [
        {
          "output_type": "stream",
          "name": "stdout",
          "text": [
            "/content/gdrive/MyDrive/cow-detection-finetune-mxnet\n"
          ]
        }
      ]
    },
    {
      "cell_type": "code",
      "source": [
        "ls\n"
      ],
      "metadata": {
        "colab": {
          "base_uri": "https://localhost:8080/"
        },
        "id": "t7y__YZDktx6",
        "outputId": "99875cc3-e67f-4e22-ce1f-4dfa8e6137f8"
      },
      "execution_count": 8,
      "outputs": [
        {
          "output_type": "stream",
          "name": "stdout",
          "text": [
            " \u001b[0m\u001b[01;34maltusi\u001b[0m/          'Cows - 93181.mp4'   istockphoto-1326089059-640_adpp_is.mp4\n",
            " app-test.log      finetune-cow.log    README.md\n",
            " app-test.py       finetune-cow.py     train-cow.idx\n",
            " \u001b[01;34mcow-dataset\u001b[0m/      gen-data.log        train-cow.rec\n",
            " cow-dataset.zip   gen-data.py         train-data.lst\n"
          ]
        }
      ]
    },
    {
      "cell_type": "code",
      "source": [
        "!pip3 install mxnet"
      ],
      "metadata": {
        "colab": {
          "base_uri": "https://localhost:8080/"
        },
        "id": "wlmsL2WemAI2",
        "outputId": "ee43992f-a32f-49f9-ee6e-36f558cd0241"
      },
      "execution_count": 11,
      "outputs": [
        {
          "output_type": "stream",
          "name": "stdout",
          "text": [
            "Collecting mxnet\n",
            "  Downloading mxnet-1.9.1-py3-none-manylinux2014_x86_64.whl (49.1 MB)\n",
            "\u001b[K     |████████████████████████████████| 49.1 MB 2.7 MB/s \n",
            "\u001b[?25hCollecting graphviz<0.9.0,>=0.8.1\n",
            "  Downloading graphviz-0.8.4-py2.py3-none-any.whl (16 kB)\n",
            "Requirement already satisfied: requests<3,>=2.20.0 in /usr/local/lib/python3.7/dist-packages (from mxnet) (2.23.0)\n",
            "Requirement already satisfied: numpy<2.0.0,>1.16.0 in /usr/local/lib/python3.7/dist-packages (from mxnet) (1.21.6)\n",
            "Requirement already satisfied: certifi>=2017.4.17 in /usr/local/lib/python3.7/dist-packages (from requests<3,>=2.20.0->mxnet) (2021.10.8)\n",
            "Requirement already satisfied: idna<3,>=2.5 in /usr/local/lib/python3.7/dist-packages (from requests<3,>=2.20.0->mxnet) (2.10)\n",
            "Requirement already satisfied: chardet<4,>=3.0.2 in /usr/local/lib/python3.7/dist-packages (from requests<3,>=2.20.0->mxnet) (3.0.4)\n",
            "Requirement already satisfied: urllib3!=1.25.0,!=1.25.1,<1.26,>=1.21.1 in /usr/local/lib/python3.7/dist-packages (from requests<3,>=2.20.0->mxnet) (1.24.3)\n",
            "Installing collected packages: graphviz, mxnet\n",
            "  Attempting uninstall: graphviz\n",
            "    Found existing installation: graphviz 0.10.1\n",
            "    Uninstalling graphviz-0.10.1:\n",
            "      Successfully uninstalled graphviz-0.10.1\n",
            "Successfully installed graphviz-0.8.4 mxnet-1.9.1\n"
          ]
        }
      ]
    },
    {
      "cell_type": "code",
      "source": [
        "!pip3 install gluoncv --upgrade"
      ],
      "metadata": {
        "colab": {
          "base_uri": "https://localhost:8080/"
        },
        "id": "OoEmBucSmUvT",
        "outputId": "73e2a395-882c-435a-dec7-703e3c0f1f6b"
      },
      "execution_count": 13,
      "outputs": [
        {
          "output_type": "stream",
          "name": "stdout",
          "text": [
            "Collecting gluoncv\n",
            "  Downloading gluoncv-0.10.5.post0-py2.py3-none-any.whl (1.3 MB)\n",
            "\u001b[?25l\r\u001b[K     |▎                               | 10 kB 21.9 MB/s eta 0:00:01\r\u001b[K     |▌                               | 20 kB 28.5 MB/s eta 0:00:01\r\u001b[K     |▊                               | 30 kB 13.8 MB/s eta 0:00:01\r\u001b[K     |█                               | 40 kB 10.2 MB/s eta 0:00:01\r\u001b[K     |█▎                              | 51 kB 3.7 MB/s eta 0:00:01\r\u001b[K     |█▌                              | 61 kB 4.4 MB/s eta 0:00:01\r\u001b[K     |█▉                              | 71 kB 4.7 MB/s eta 0:00:01\r\u001b[K     |██                              | 81 kB 4.5 MB/s eta 0:00:01\r\u001b[K     |██▎                             | 92 kB 5.0 MB/s eta 0:00:01\r\u001b[K     |██▋                             | 102 kB 4.3 MB/s eta 0:00:01\r\u001b[K     |██▉                             | 112 kB 4.3 MB/s eta 0:00:01\r\u001b[K     |███                             | 122 kB 4.3 MB/s eta 0:00:01\r\u001b[K     |███▍                            | 133 kB 4.3 MB/s eta 0:00:01\r\u001b[K     |███▋                            | 143 kB 4.3 MB/s eta 0:00:01\r\u001b[K     |███▉                            | 153 kB 4.3 MB/s eta 0:00:01\r\u001b[K     |████▏                           | 163 kB 4.3 MB/s eta 0:00:01\r\u001b[K     |████▍                           | 174 kB 4.3 MB/s eta 0:00:01\r\u001b[K     |████▋                           | 184 kB 4.3 MB/s eta 0:00:01\r\u001b[K     |█████                           | 194 kB 4.3 MB/s eta 0:00:01\r\u001b[K     |█████▏                          | 204 kB 4.3 MB/s eta 0:00:01\r\u001b[K     |█████▍                          | 215 kB 4.3 MB/s eta 0:00:01\r\u001b[K     |█████▊                          | 225 kB 4.3 MB/s eta 0:00:01\r\u001b[K     |██████                          | 235 kB 4.3 MB/s eta 0:00:01\r\u001b[K     |██████▏                         | 245 kB 4.3 MB/s eta 0:00:01\r\u001b[K     |██████▌                         | 256 kB 4.3 MB/s eta 0:00:01\r\u001b[K     |██████▊                         | 266 kB 4.3 MB/s eta 0:00:01\r\u001b[K     |███████                         | 276 kB 4.3 MB/s eta 0:00:01\r\u001b[K     |███████▏                        | 286 kB 4.3 MB/s eta 0:00:01\r\u001b[K     |███████▌                        | 296 kB 4.3 MB/s eta 0:00:01\r\u001b[K     |███████▊                        | 307 kB 4.3 MB/s eta 0:00:01\r\u001b[K     |████████                        | 317 kB 4.3 MB/s eta 0:00:01\r\u001b[K     |████████▎                       | 327 kB 4.3 MB/s eta 0:00:01\r\u001b[K     |████████▌                       | 337 kB 4.3 MB/s eta 0:00:01\r\u001b[K     |████████▊                       | 348 kB 4.3 MB/s eta 0:00:01\r\u001b[K     |█████████                       | 358 kB 4.3 MB/s eta 0:00:01\r\u001b[K     |█████████▎                      | 368 kB 4.3 MB/s eta 0:00:01\r\u001b[K     |█████████▌                      | 378 kB 4.3 MB/s eta 0:00:01\r\u001b[K     |█████████▉                      | 389 kB 4.3 MB/s eta 0:00:01\r\u001b[K     |██████████                      | 399 kB 4.3 MB/s eta 0:00:01\r\u001b[K     |██████████▎                     | 409 kB 4.3 MB/s eta 0:00:01\r\u001b[K     |██████████▋                     | 419 kB 4.3 MB/s eta 0:00:01\r\u001b[K     |██████████▉                     | 430 kB 4.3 MB/s eta 0:00:01\r\u001b[K     |███████████                     | 440 kB 4.3 MB/s eta 0:00:01\r\u001b[K     |███████████▍                    | 450 kB 4.3 MB/s eta 0:00:01\r\u001b[K     |███████████▋                    | 460 kB 4.3 MB/s eta 0:00:01\r\u001b[K     |███████████▉                    | 471 kB 4.3 MB/s eta 0:00:01\r\u001b[K     |████████████▏                   | 481 kB 4.3 MB/s eta 0:00:01\r\u001b[K     |████████████▍                   | 491 kB 4.3 MB/s eta 0:00:01\r\u001b[K     |████████████▋                   | 501 kB 4.3 MB/s eta 0:00:01\r\u001b[K     |█████████████                   | 512 kB 4.3 MB/s eta 0:00:01\r\u001b[K     |█████████████▏                  | 522 kB 4.3 MB/s eta 0:00:01\r\u001b[K     |█████████████▍                  | 532 kB 4.3 MB/s eta 0:00:01\r\u001b[K     |█████████████▋                  | 542 kB 4.3 MB/s eta 0:00:01\r\u001b[K     |██████████████                  | 552 kB 4.3 MB/s eta 0:00:01\r\u001b[K     |██████████████▏                 | 563 kB 4.3 MB/s eta 0:00:01\r\u001b[K     |██████████████▍                 | 573 kB 4.3 MB/s eta 0:00:01\r\u001b[K     |██████████████▊                 | 583 kB 4.3 MB/s eta 0:00:01\r\u001b[K     |███████████████                 | 593 kB 4.3 MB/s eta 0:00:01\r\u001b[K     |███████████████▏                | 604 kB 4.3 MB/s eta 0:00:01\r\u001b[K     |███████████████▌                | 614 kB 4.3 MB/s eta 0:00:01\r\u001b[K     |███████████████▊                | 624 kB 4.3 MB/s eta 0:00:01\r\u001b[K     |████████████████                | 634 kB 4.3 MB/s eta 0:00:01\r\u001b[K     |████████████████▎               | 645 kB 4.3 MB/s eta 0:00:01\r\u001b[K     |████████████████▌               | 655 kB 4.3 MB/s eta 0:00:01\r\u001b[K     |████████████████▊               | 665 kB 4.3 MB/s eta 0:00:01\r\u001b[K     |█████████████████               | 675 kB 4.3 MB/s eta 0:00:01\r\u001b[K     |█████████████████▎              | 686 kB 4.3 MB/s eta 0:00:01\r\u001b[K     |█████████████████▌              | 696 kB 4.3 MB/s eta 0:00:01\r\u001b[K     |█████████████████▉              | 706 kB 4.3 MB/s eta 0:00:01\r\u001b[K     |██████████████████              | 716 kB 4.3 MB/s eta 0:00:01\r\u001b[K     |██████████████████▎             | 727 kB 4.3 MB/s eta 0:00:01\r\u001b[K     |██████████████████▋             | 737 kB 4.3 MB/s eta 0:00:01\r\u001b[K     |██████████████████▉             | 747 kB 4.3 MB/s eta 0:00:01\r\u001b[K     |███████████████████             | 757 kB 4.3 MB/s eta 0:00:01\r\u001b[K     |███████████████████▍            | 768 kB 4.3 MB/s eta 0:00:01\r\u001b[K     |███████████████████▋            | 778 kB 4.3 MB/s eta 0:00:01\r\u001b[K     |███████████████████▉            | 788 kB 4.3 MB/s eta 0:00:01\r\u001b[K     |████████████████████            | 798 kB 4.3 MB/s eta 0:00:01\r\u001b[K     |████████████████████▍           | 808 kB 4.3 MB/s eta 0:00:01\r\u001b[K     |████████████████████▋           | 819 kB 4.3 MB/s eta 0:00:01\r\u001b[K     |████████████████████▉           | 829 kB 4.3 MB/s eta 0:00:01\r\u001b[K     |█████████████████████▏          | 839 kB 4.3 MB/s eta 0:00:01\r\u001b[K     |█████████████████████▍          | 849 kB 4.3 MB/s eta 0:00:01\r\u001b[K     |█████████████████████▋          | 860 kB 4.3 MB/s eta 0:00:01\r\u001b[K     |██████████████████████          | 870 kB 4.3 MB/s eta 0:00:01\r\u001b[K     |██████████████████████▏         | 880 kB 4.3 MB/s eta 0:00:01\r\u001b[K     |██████████████████████▍         | 890 kB 4.3 MB/s eta 0:00:01\r\u001b[K     |██████████████████████▊         | 901 kB 4.3 MB/s eta 0:00:01\r\u001b[K     |███████████████████████         | 911 kB 4.3 MB/s eta 0:00:01\r\u001b[K     |███████████████████████▏        | 921 kB 4.3 MB/s eta 0:00:01\r\u001b[K     |███████████████████████▌        | 931 kB 4.3 MB/s eta 0:00:01\r\u001b[K     |███████████████████████▊        | 942 kB 4.3 MB/s eta 0:00:01\r\u001b[K     |████████████████████████        | 952 kB 4.3 MB/s eta 0:00:01\r\u001b[K     |████████████████████████▎       | 962 kB 4.3 MB/s eta 0:00:01\r\u001b[K     |████████████████████████▌       | 972 kB 4.3 MB/s eta 0:00:01\r\u001b[K     |████████████████████████▊       | 983 kB 4.3 MB/s eta 0:00:01\r\u001b[K     |█████████████████████████       | 993 kB 4.3 MB/s eta 0:00:01\r\u001b[K     |█████████████████████████▎      | 1.0 MB 4.3 MB/s eta 0:00:01\r\u001b[K     |█████████████████████████▌      | 1.0 MB 4.3 MB/s eta 0:00:01\r\u001b[K     |█████████████████████████▉      | 1.0 MB 4.3 MB/s eta 0:00:01\r\u001b[K     |██████████████████████████      | 1.0 MB 4.3 MB/s eta 0:00:01\r\u001b[K     |██████████████████████████▎     | 1.0 MB 4.3 MB/s eta 0:00:01\r\u001b[K     |██████████████████████████▌     | 1.1 MB 4.3 MB/s eta 0:00:01\r\u001b[K     |██████████████████████████▉     | 1.1 MB 4.3 MB/s eta 0:00:01\r\u001b[K     |███████████████████████████     | 1.1 MB 4.3 MB/s eta 0:00:01\r\u001b[K     |███████████████████████████▎    | 1.1 MB 4.3 MB/s eta 0:00:01\r\u001b[K     |███████████████████████████▋    | 1.1 MB 4.3 MB/s eta 0:00:01\r\u001b[K     |███████████████████████████▉    | 1.1 MB 4.3 MB/s eta 0:00:01\r\u001b[K     |████████████████████████████    | 1.1 MB 4.3 MB/s eta 0:00:01\r\u001b[K     |████████████████████████████▍   | 1.1 MB 4.3 MB/s eta 0:00:01\r\u001b[K     |████████████████████████████▋   | 1.1 MB 4.3 MB/s eta 0:00:01\r\u001b[K     |████████████████████████████▉   | 1.1 MB 4.3 MB/s eta 0:00:01\r\u001b[K     |█████████████████████████████▏  | 1.2 MB 4.3 MB/s eta 0:00:01\r\u001b[K     |█████████████████████████████▍  | 1.2 MB 4.3 MB/s eta 0:00:01\r\u001b[K     |█████████████████████████████▋  | 1.2 MB 4.3 MB/s eta 0:00:01\r\u001b[K     |██████████████████████████████  | 1.2 MB 4.3 MB/s eta 0:00:01\r\u001b[K     |██████████████████████████████▏ | 1.2 MB 4.3 MB/s eta 0:00:01\r\u001b[K     |██████████████████████████████▍ | 1.2 MB 4.3 MB/s eta 0:00:01\r\u001b[K     |██████████████████████████████▊ | 1.2 MB 4.3 MB/s eta 0:00:01\r\u001b[K     |███████████████████████████████ | 1.2 MB 4.3 MB/s eta 0:00:01\r\u001b[K     |███████████████████████████████▏| 1.2 MB 4.3 MB/s eta 0:00:01\r\u001b[K     |███████████████████████████████▌| 1.2 MB 4.3 MB/s eta 0:00:01\r\u001b[K     |███████████████████████████████▊| 1.3 MB 4.3 MB/s eta 0:00:01\r\u001b[K     |████████████████████████████████| 1.3 MB 4.3 MB/s eta 0:00:01\r\u001b[K     |████████████████████████████████| 1.3 MB 4.3 MB/s \n",
            "\u001b[?25hCollecting portalocker\n",
            "  Downloading portalocker-2.4.0-py2.py3-none-any.whl (16 kB)\n",
            "Collecting autocfg\n",
            "  Downloading autocfg-0.0.8-py3-none-any.whl (13 kB)\n",
            "Requirement already satisfied: numpy in /usr/local/lib/python3.7/dist-packages (from gluoncv) (1.21.6)\n",
            "Requirement already satisfied: requests in /usr/local/lib/python3.7/dist-packages (from gluoncv) (2.23.0)\n",
            "Collecting yacs\n",
            "  Downloading yacs-0.1.8-py3-none-any.whl (14 kB)\n",
            "Requirement already satisfied: pyyaml in /usr/local/lib/python3.7/dist-packages (from gluoncv) (3.13)\n",
            "Requirement already satisfied: opencv-python in /usr/local/lib/python3.7/dist-packages (from gluoncv) (4.1.2.30)\n",
            "Requirement already satisfied: Pillow in /usr/local/lib/python3.7/dist-packages (from gluoncv) (7.1.2)\n",
            "Requirement already satisfied: scipy in /usr/local/lib/python3.7/dist-packages (from gluoncv) (1.4.1)\n",
            "Requirement already satisfied: tqdm in /usr/local/lib/python3.7/dist-packages (from gluoncv) (4.64.0)\n",
            "Requirement already satisfied: matplotlib in /usr/local/lib/python3.7/dist-packages (from gluoncv) (3.2.2)\n",
            "Requirement already satisfied: pandas in /usr/local/lib/python3.7/dist-packages (from gluoncv) (1.3.5)\n",
            "Requirement already satisfied: kiwisolver>=1.0.1 in /usr/local/lib/python3.7/dist-packages (from matplotlib->gluoncv) (1.4.2)\n",
            "Requirement already satisfied: cycler>=0.10 in /usr/local/lib/python3.7/dist-packages (from matplotlib->gluoncv) (0.11.0)\n",
            "Requirement already satisfied: python-dateutil>=2.1 in /usr/local/lib/python3.7/dist-packages (from matplotlib->gluoncv) (2.8.2)\n",
            "Requirement already satisfied: pyparsing!=2.0.4,!=2.1.2,!=2.1.6,>=2.0.1 in /usr/local/lib/python3.7/dist-packages (from matplotlib->gluoncv) (3.0.9)\n",
            "Requirement already satisfied: typing-extensions in /usr/local/lib/python3.7/dist-packages (from kiwisolver>=1.0.1->matplotlib->gluoncv) (4.2.0)\n",
            "Requirement already satisfied: six>=1.5 in /usr/local/lib/python3.7/dist-packages (from python-dateutil>=2.1->matplotlib->gluoncv) (1.15.0)\n",
            "Requirement already satisfied: pytz>=2017.3 in /usr/local/lib/python3.7/dist-packages (from pandas->gluoncv) (2022.1)\n",
            "Requirement already satisfied: certifi>=2017.4.17 in /usr/local/lib/python3.7/dist-packages (from requests->gluoncv) (2021.10.8)\n",
            "Requirement already satisfied: urllib3!=1.25.0,!=1.25.1,<1.26,>=1.21.1 in /usr/local/lib/python3.7/dist-packages (from requests->gluoncv) (1.24.3)\n",
            "Requirement already satisfied: chardet<4,>=3.0.2 in /usr/local/lib/python3.7/dist-packages (from requests->gluoncv) (3.0.4)\n",
            "Requirement already satisfied: idna<3,>=2.5 in /usr/local/lib/python3.7/dist-packages (from requests->gluoncv) (2.10)\n",
            "Installing collected packages: yacs, portalocker, autocfg, gluoncv\n",
            "Successfully installed autocfg-0.0.8 gluoncv-0.10.5.post0 portalocker-2.4.0 yacs-0.1.8\n"
          ]
        }
      ]
    },
    {
      "cell_type": "code",
      "source": [
        "!python \"app-test.py\"\n"
      ],
      "metadata": {
        "colab": {
          "base_uri": "https://localhost:8080/"
        },
        "id": "uyTHsbL2kwjy",
        "outputId": "2108e654-a475-4d11-cc86-16df7dfd10db"
      },
      "execution_count": 14,
      "outputs": [
        {
          "output_type": "stream",
          "name": "stdout",
          "text": [
            "/usr/local/lib/python3.7/dist-packages/gluoncv/__init__.py:40: UserWarning: Both `mxnet==1.9.1` and `torch==1.11.0+cu113` are installed. You might encounter increased GPU memory footprint if both framework are used at the same time.\n",
            "  warnings.warn(f'Both `mxnet=={mx.__version__}` and `torch=={torch.__version__}` are installed. '\n",
            "2022-05-18 19:16:38,637  [INFO]  Task: Test on Images\n",
            "\n",
            "/usr/local/lib/python3.7/dist-packages/mxnet/gluon/block.py:1784: UserWarning: Cannot decide type for the following arguments. Consider providing them as input:\n",
            "\tdata: None\n",
            "  input_sym_arg_type = in_param.infer_type()[0]\n",
            "Traceback (most recent call last):\n",
            "  File \"app-test.py\", line 185, in <module>\n",
            "    main(args)\n",
            "  File \"app-test.py\", line 166, in main\n",
            "    net.load_parameters(TRAINED_MODEL)\n",
            "  File \"/usr/local/lib/python3.7/dist-packages/mxnet/gluon/block.py\", line 522, in load_parameters\n",
            "    loaded = ndarray.load(filename)\n",
            "  File \"/usr/local/lib/python3.7/dist-packages/mxnet/ndarray/utils.py\", line 175, in load\n",
            "    ctypes.byref(names)))\n",
            "  File \"/usr/local/lib/python3.7/dist-packages/mxnet/base.py\", line 246, in check_call\n",
            "    raise get_last_ffi_error()\n",
            "mxnet.base.MXNetError: Traceback (most recent call last):\n",
            "  File \"../3rdparty/dmlc-core/src/io/local_filesys.cc\", line 209\n",
            "LocalFileSystem: Check failed: allow_null: :Open \"ssd_512_resnet50_v1_cow.params\": No such file or directory\n"
          ]
        }
      ]
    },
    {
      "cell_type": "code",
      "source": [
        "!python3 \"finetune-cow.py\""
      ],
      "metadata": {
        "colab": {
          "base_uri": "https://localhost:8080/"
        },
        "id": "eZM9bvBDmeej",
        "outputId": "b97cd21f-0513-42c0-95c5-ffeed8283e09"
      },
      "execution_count": 16,
      "outputs": [
        {
          "output_type": "stream",
          "name": "stdout",
          "text": [
            "/usr/local/lib/python3.7/dist-packages/gluoncv/__init__.py:40: UserWarning: Both `mxnet==1.9.1` and `torch==1.11.0+cu113` are installed. You might encounter increased GPU memory footprint if both framework are used at the same time.\n",
            "  warnings.warn(f'Both `mxnet=={mx.__version__}` and `torch=={torch.__version__}` are installed. '\n",
            "/usr/local/lib/python3.7/dist-packages/mxnet/gluon/block.py:1784: UserWarning: Cannot decide type for the following arguments. Consider providing them as input:\n",
            "\tdata: None\n",
            "  input_sym_arg_type = in_param.infer_type()[0]\n",
            "Downloading /root/.mxnet/models/ssd_512_resnet50_v1_voc-9c8b225a.zip from https://apache-mxnet.s3-accelerate.dualstack.amazonaws.com/gluon/models/ssd_512_resnet50_v1_voc-9c8b225a.zip...\n",
            "100% 132723/132723 [00:04<00:00, 27996.17KB/s]\n",
            "[19:18:27] ../src/imperative/./imperative_utils.h:93: GPU support is disabled. Compile MXNet with USE_CUDA=1 to enable GPU support.\n",
            "tcmalloc: large alloc 1276297216 bytes == 0x5e094000 @  0x7f0a248b7b6b 0x7f0a248d7379 0x7f0a1705612b 0x7f0a17055ec5 0x7f0a122af4a3 0x7f0a122af717 0x7f0a122be93e 0x7f0a1222672e 0x7f0a1223064c 0x7f0a12232244 0x7f0a1222f75b 0x7f0a231b7a50 0x7f0a242996db 0x7f0a245d261f\n",
            "[Epoch 0][Batch 0], Speed: 0.265 samples/sec, CrossEntropy=2.622, SmoothL1=0.568\n",
            "tcmalloc: large alloc 1497964544 bytes == 0x173dda000 @  0x7f0a248b7b6b 0x7f0a248d7379 0x7f0a1705612b 0x7f0a17055ec5 0x7f0a122af4a3 0x7f0a122af717 0x7f0a122be93e 0x7f0a1222672e 0x7f0a1223064c 0x7f0a12232244 0x7f0a1222f75b 0x7f0a231b7a50 0x7f0a242996db 0x7f0a245d261f\n",
            "[Epoch 0][Batch 20], Speed: 0.347 samples/sec, CrossEntropy=2.311, SmoothL1=0.868\n",
            "[Epoch 1][Batch 0], Speed: 0.292 samples/sec, CrossEntropy=2.106, SmoothL1=1.269\n",
            "tcmalloc: large alloc 4024934400 bytes == 0x238b9c000 @  0x7f0a248b7b6b 0x7f0a248d7379 0x7f0a1705612b 0x7f0a17055ec5 0x7f0a122af4a3 0x7f0a122af717 0x7f0a122be93e 0x7f0a1222672e 0x7f0a1223064c 0x7f0a12232244 0x7f0a1222f75b 0x7f0a231b7a50 0x7f0a242996db 0x7f0a245d261f\n",
            "[Epoch 1][Batch 20], Speed: 0.357 samples/sec, CrossEntropy=2.125, SmoothL1=1.127\n",
            "[Epoch 2][Batch 0], Speed: 0.335 samples/sec, CrossEntropy=1.114, SmoothL1=0.348\n",
            "[Epoch 2][Batch 20], Speed: 0.339 samples/sec, CrossEntropy=1.826, SmoothL1=0.932\n",
            "[Epoch 3][Batch 0], Speed: 0.338 samples/sec, CrossEntropy=1.751, SmoothL1=0.790\n",
            "tcmalloc: large alloc 1819377664 bytes == 0x33a2a000 @  0x7f0a248b7b6b 0x7f0a248d7379 0x7f0a1705612b 0x7f0a17055ec5 0x7f0a122af4a3 0x7f0a122af717 0x7f0a122be93e 0x7f0a1222672e 0x7f0a1223064c 0x7f0a12232244 0x7f0a1222f75b 0x7f0a231b7a50 0x7f0a242996db 0x7f0a245d261f\n",
            "tcmalloc: large alloc 2012119040 bytes == 0x3527e000 @  0x7f0a248b7b6b 0x7f0a248d7379 0x7f0a1705612b 0x7f0a17055ec5 0x7f0a122af4a3 0x7f0a122af717 0x7f0a122be93e 0x7f0a1222672e 0x7f0a1223064c 0x7f0a12232244 0x7f0a1222f75b 0x7f0a231b7a50 0x7f0a242996db 0x7f0a245d261f\n",
            "[Epoch 3][Batch 20], Speed: 0.347 samples/sec, CrossEntropy=1.741, SmoothL1=0.781\n",
            "tcmalloc: large alloc 2127052800 bytes == 0x2e36a000 @  0x7f0a248b7b6b 0x7f0a248d7379 0x7f0a1705612b 0x7f0a17055ec5 0x7f0a122af4a3 0x7f0a122af717 0x7f0a122be93e 0x7f0a1222672e 0x7f0a1223064c 0x7f0a12232244 0x7f0a1222f75b 0x7f0a231b7a50 0x7f0a242996db 0x7f0a245d261f\n",
            "[Epoch 4][Batch 0], Speed: 0.334 samples/sec, CrossEntropy=2.211, SmoothL1=0.967\n",
            "tcmalloc: large alloc 2614558720 bytes == 0x238b2a000 @  0x7f0a248b7b6b 0x7f0a248d7379 0x7f0a1705612b 0x7f0a17055ec5 0x7f0a122af4a3 0x7f0a122af717 0x7f0a122be93e 0x7f0a1222672e 0x7f0a1223064c 0x7f0a12232244 0x7f0a1222f75b 0x7f0a231b7a50 0x7f0a242996db 0x7f0a245d261f\n",
            "[Epoch 4][Batch 20], Speed: 0.373 samples/sec, CrossEntropy=1.613, SmoothL1=0.737\n"
          ]
        }
      ]
    },
    {
      "cell_type": "code",
      "source": [
        "!python3 \"app-test.py\" -v /content/gdrive/MyDrive/cow-detection-finetune-mxnet/Cows - 93181.mp4\n"
      ],
      "metadata": {
        "colab": {
          "base_uri": "https://localhost:8080/"
        },
        "id": "vWZYltG6yX5_",
        "outputId": "29a04ff3-c541-4ef6-b24d-2b5b0a6130df"
      },
      "execution_count": 19,
      "outputs": [
        {
          "output_type": "stream",
          "name": "stdout",
          "text": [
            "/usr/local/lib/python3.7/dist-packages/gluoncv/__init__.py:40: UserWarning: Both `mxnet==1.9.1` and `torch==1.11.0+cu113` are installed. You might encounter increased GPU memory footprint if both framework are used at the same time.\n",
            "  warnings.warn(f'Both `mxnet=={mx.__version__}` and `torch=={torch.__version__}` are installed. '\n",
            "2022-05-18 20:13:08,893  [INFO]  Task: Test on Images\n",
            "\n",
            "usage: app-test.py [-h] [--data DATA] [--image IMAGE] [--video VIDEO]\n",
            "                   [--name NAME] [--show] [--record]\n",
            "app-test.py: error: unrecognized arguments: - 93181.mp4\n"
          ]
        }
      ]
    },
    {
      "cell_type": "code",
      "source": [
        "!python3 \"app-test.py\" --video /content/gdrive/MyDrive/cow-detection-finetune-mxnet/cow.mp4 --record"
      ],
      "metadata": {
        "colab": {
          "base_uri": "https://localhost:8080/"
        },
        "id": "6gaaawNYze2D",
        "outputId": "059292a4-299f-4580-c34c-4309ea858c42"
      },
      "execution_count": 21,
      "outputs": [
        {
          "output_type": "stream",
          "name": "stdout",
          "text": [
            "/usr/local/lib/python3.7/dist-packages/gluoncv/__init__.py:40: UserWarning: Both `mxnet==1.9.1` and `torch==1.11.0+cu113` are installed. You might encounter increased GPU memory footprint if both framework are used at the same time.\n",
            "  warnings.warn(f'Both `mxnet=={mx.__version__}` and `torch=={torch.__version__}` are installed. '\n",
            "2022-05-18 20:15:20,450  [INFO]  Task: Test on Images\n",
            "\n",
            "/usr/local/lib/python3.7/dist-packages/mxnet/gluon/block.py:1784: UserWarning: Cannot decide type for the following arguments. Consider providing them as input:\n",
            "\tdata: None\n",
            "  input_sym_arg_type = in_param.infer_type()[0]\n",
            "2022-05-18 20:15:21,181  [INFO]  Device in Use: cpu(0)\n",
            "2022-05-18 20:15:22,388  [INFO]  Camera Info: (2560, 1440) - 30.000\n",
            "2022-05-18 20:15:24,730  [INFO]  FPS: 0.4317\n",
            "2022-05-18 20:15:26,164  [INFO]  FPS: 0.7289\n",
            "2022-05-18 20:15:27,608  [INFO]  FPS: 0.7262\n",
            "2022-05-18 20:15:29,086  [INFO]  FPS: 0.7025\n",
            "2022-05-18 20:15:30,525  [INFO]  FPS: 0.7199\n",
            "2022-05-18 20:15:31,975  [INFO]  FPS: 0.7157\n",
            "2022-05-18 20:15:33,424  [INFO]  FPS: 0.7147\n",
            "2022-05-18 20:15:34,882  [INFO]  FPS: 0.7091\n",
            "2022-05-18 20:15:36,350  [INFO]  FPS: 0.7100\n",
            "2022-05-18 20:15:37,837  [INFO]  FPS: 0.6963\n",
            "2022-05-18 20:15:39,302  [INFO]  FPS: 0.7084\n",
            "2022-05-18 20:15:40,749  [INFO]  FPS: 0.7160\n",
            "2022-05-18 20:15:42,205  [INFO]  FPS: 0.7127\n",
            "2022-05-18 20:15:43,659  [INFO]  FPS: 0.7184\n",
            "2022-05-18 20:15:45,114  [INFO]  FPS: 0.7138\n",
            "2022-05-18 20:15:46,586  [INFO]  FPS: 0.7094\n",
            "2022-05-18 20:15:48,028  [INFO]  FPS: 0.7194\n",
            "2022-05-18 20:15:49,505  [INFO]  FPS: 0.7017\n",
            "2022-05-18 20:15:50,981  [INFO]  FPS: 0.7042\n",
            "2022-05-18 20:15:52,438  [INFO]  FPS: 0.7143\n",
            "2022-05-18 20:15:53,912  [INFO]  FPS: 0.7034\n",
            "2022-05-18 20:15:55,376  [INFO]  FPS: 0.7109\n",
            "2022-05-18 20:15:56,889  [INFO]  FPS: 0.6902\n",
            "2022-05-18 20:15:58,340  [INFO]  FPS: 0.7186\n",
            "2022-05-18 20:15:59,798  [INFO]  FPS: 0.7135\n",
            "2022-05-18 20:16:01,251  [INFO]  FPS: 0.7193\n",
            "2022-05-18 20:16:02,679  [INFO]  FPS: 0.7292\n",
            "2022-05-18 20:16:04,106  [INFO]  FPS: 0.7288\n",
            "2022-05-18 20:16:05,549  [INFO]  FPS: 0.7189\n",
            "2022-05-18 20:16:07,042  [INFO]  FPS: 0.6955\n",
            "2022-05-18 20:16:08,486  [INFO]  FPS: 0.7196\n",
            "2022-05-18 20:16:09,939  [INFO]  FPS: 0.7149\n",
            "2022-05-18 20:16:11,413  [INFO]  FPS: 0.7053\n",
            "2022-05-18 20:16:12,863  [INFO]  FPS: 0.7156\n",
            "2022-05-18 20:16:14,322  [INFO]  FPS: 0.7136\n",
            "2022-05-18 20:16:15,772  [INFO]  FPS: 0.7162\n",
            "2022-05-18 20:16:17,240  [INFO]  FPS: 0.7094\n",
            "2022-05-18 20:16:18,695  [INFO]  FPS: 0.7177\n",
            "2022-05-18 20:16:20,175  [INFO]  FPS: 0.7025\n",
            "2022-05-18 20:16:21,612  [INFO]  FPS: 0.7220\n",
            "2022-05-18 20:16:23,089  [INFO]  FPS: 0.7020\n",
            "2022-05-18 20:16:24,541  [INFO]  FPS: 0.7132\n",
            "2022-05-18 20:16:25,980  [INFO]  FPS: 0.7199\n",
            "2022-05-18 20:16:27,424  [INFO]  FPS: 0.7180\n",
            "2022-05-18 20:16:28,839  [INFO]  FPS: 0.7334\n",
            "2022-05-18 20:16:30,279  [INFO]  FPS: 0.7226\n",
            "2022-05-18 20:16:31,713  [INFO]  FPS: 0.7253\n",
            "2022-05-18 20:16:33,170  [INFO]  FPS: 0.7130\n",
            "2022-05-18 20:16:34,662  [INFO]  FPS: 0.6942\n",
            "2022-05-18 20:16:36,080  [INFO]  FPS: 0.7369\n",
            "2022-05-18 20:16:37,563  [INFO]  FPS: 0.7010\n",
            "2022-05-18 20:16:39,031  [INFO]  FPS: 0.7068\n",
            "2022-05-18 20:16:40,468  [INFO]  FPS: 0.7227\n",
            "2022-05-18 20:16:41,916  [INFO]  FPS: 0.7222\n",
            "2022-05-18 20:16:43,399  [INFO]  FPS: 0.7004\n",
            "2022-05-18 20:16:44,854  [INFO]  FPS: 0.7131\n",
            "2022-05-18 20:16:46,327  [INFO]  FPS: 0.7053\n",
            "2022-05-18 20:16:47,773  [INFO]  FPS: 0.7168\n",
            "2022-05-18 20:16:49,222  [INFO]  FPS: 0.7147\n",
            "2022-05-18 20:16:50,665  [INFO]  FPS: 0.7191\n",
            "2022-05-18 20:16:52,123  [INFO]  FPS: 0.7196\n",
            "2022-05-18 20:16:53,619  [INFO]  FPS: 0.6988\n",
            "2022-05-18 20:16:55,091  [INFO]  FPS: 0.7068\n",
            "2022-05-18 20:16:56,565  [INFO]  FPS: 0.7022\n",
            "2022-05-18 20:16:58,045  [INFO]  FPS: 0.7001\n",
            "2022-05-18 20:16:59,481  [INFO]  FPS: 0.7220\n",
            "2022-05-18 20:17:00,916  [INFO]  FPS: 0.7244\n",
            "2022-05-18 20:17:02,359  [INFO]  FPS: 0.7243\n",
            "2022-05-18 20:17:03,830  [INFO]  FPS: 0.7044\n",
            "2022-05-18 20:17:05,276  [INFO]  FPS: 0.7175\n",
            "2022-05-18 20:17:06,720  [INFO]  FPS: 0.7195\n",
            "2022-05-18 20:17:08,157  [INFO]  FPS: 0.7220\n",
            "2022-05-18 20:17:09,613  [INFO]  FPS: 0.7124\n",
            "2022-05-18 20:17:11,161  [INFO]  FPS: 0.6735\n",
            "2022-05-18 20:17:12,609  [INFO]  FPS: 0.7256\n",
            "2022-05-18 20:17:14,072  [INFO]  FPS: 0.7060\n",
            "2022-05-18 20:17:15,534  [INFO]  FPS: 0.7096\n",
            "2022-05-18 20:17:16,961  [INFO]  FPS: 0.7259\n",
            "2022-05-18 20:17:18,390  [INFO]  FPS: 0.7277\n",
            "2022-05-18 20:17:19,824  [INFO]  FPS: 0.7225\n",
            "2022-05-18 20:17:21,278  [INFO]  FPS: 0.7132\n",
            "2022-05-18 20:17:22,721  [INFO]  FPS: 0.7176\n",
            "2022-05-18 20:17:24,163  [INFO]  FPS: 0.7177\n",
            "2022-05-18 20:17:25,645  [INFO]  FPS: 0.6991\n",
            "2022-05-18 20:17:27,091  [INFO]  FPS: 0.7173\n",
            "2022-05-18 20:17:28,548  [INFO]  FPS: 0.7166\n",
            "2022-05-18 20:17:30,038  [INFO]  FPS: 0.7006\n",
            "2022-05-18 20:17:31,505  [INFO]  FPS: 0.7077\n",
            "2022-05-18 20:17:32,990  [INFO]  FPS: 0.6996\n",
            "2022-05-18 20:17:34,400  [INFO]  FPS: 0.7371\n",
            "2022-05-18 20:17:35,822  [INFO]  FPS: 0.7318\n",
            "2022-05-18 20:17:37,295  [INFO]  FPS: 0.7079\n",
            "2022-05-18 20:17:38,694  [INFO]  FPS: 0.7455\n",
            "2022-05-18 20:17:40,136  [INFO]  FPS: 0.7202\n",
            "2022-05-18 20:17:41,575  [INFO]  FPS: 0.7224\n",
            "2022-05-18 20:17:43,023  [INFO]  FPS: 0.7193\n",
            "2022-05-18 20:17:44,499  [INFO]  FPS: 0.7052\n",
            "2022-05-18 20:17:45,974  [INFO]  FPS: 0.7056\n",
            "2022-05-18 20:17:47,431  [INFO]  FPS: 0.7125\n",
            "2022-05-18 20:17:48,860  [INFO]  FPS: 0.7240\n",
            "2022-05-18 20:17:50,319  [INFO]  FPS: 0.7113\n",
            "2022-05-18 20:17:51,773  [INFO]  FPS: 0.7130\n",
            "2022-05-18 20:17:53,216  [INFO]  FPS: 0.7178\n",
            "2022-05-18 20:17:54,674  [INFO]  FPS: 0.7112\n",
            "2022-05-18 20:17:56,158  [INFO]  FPS: 0.6996\n",
            "2022-05-18 20:17:57,685  [INFO]  FPS: 0.6794\n",
            "2022-05-18 20:17:59,086  [INFO]  FPS: 0.7417\n",
            "2022-05-18 20:18:00,533  [INFO]  FPS: 0.7160\n",
            "2022-05-18 20:18:01,988  [INFO]  FPS: 0.7152\n",
            "2022-05-18 20:18:03,439  [INFO]  FPS: 0.7190\n",
            "2022-05-18 20:18:04,883  [INFO]  FPS: 0.7226\n",
            "2022-05-18 20:18:06,344  [INFO]  FPS: 0.7093\n",
            "2022-05-18 20:18:07,823  [INFO]  FPS: 0.7025\n",
            "2022-05-18 20:18:09,256  [INFO]  FPS: 0.7239\n",
            "2022-05-18 20:18:10,707  [INFO]  FPS: 0.7146\n",
            "2022-05-18 20:18:12,156  [INFO]  FPS: 0.7165\n",
            "2022-05-18 20:18:13,616  [INFO]  FPS: 0.7110\n",
            "2022-05-18 20:18:15,079  [INFO]  FPS: 0.7102\n",
            "2022-05-18 20:18:16,546  [INFO]  FPS: 0.7081\n",
            "2022-05-18 20:18:18,019  [INFO]  FPS: 0.7052\n",
            "2022-05-18 20:18:19,498  [INFO]  FPS: 0.7022\n",
            "2022-05-18 20:18:20,968  [INFO]  FPS: 0.7109\n",
            "2022-05-18 20:18:22,415  [INFO]  FPS: 0.7178\n",
            "2022-05-18 20:18:23,860  [INFO]  FPS: 0.7183\n",
            "2022-05-18 20:18:25,337  [INFO]  FPS: 0.7026\n",
            "2022-05-18 20:18:26,767  [INFO]  FPS: 0.7269\n",
            "2022-05-18 20:18:28,271  [INFO]  FPS: 0.6898\n",
            "2022-05-18 20:18:29,726  [INFO]  FPS: 0.7131\n",
            "2022-05-18 20:18:31,206  [INFO]  FPS: 0.7000\n",
            "2022-05-18 20:18:32,641  [INFO]  FPS: 0.7247\n",
            "2022-05-18 20:18:34,098  [INFO]  FPS: 0.7128\n",
            "2022-05-18 20:18:35,556  [INFO]  FPS: 0.7109\n",
            "2022-05-18 20:18:37,029  [INFO]  FPS: 0.7059\n",
            "2022-05-18 20:18:38,497  [INFO]  FPS: 0.7104\n",
            "2022-05-18 20:18:39,938  [INFO]  FPS: 0.7203\n",
            "2022-05-18 20:18:41,400  [INFO]  FPS: 0.7108\n",
            "2022-05-18 20:18:42,834  [INFO]  FPS: 0.7229\n",
            "2022-05-18 20:18:44,277  [INFO]  FPS: 0.7180\n",
            "2022-05-18 20:18:45,772  [INFO]  FPS: 0.6931\n",
            "2022-05-18 20:18:47,207  [INFO]  FPS: 0.7226\n",
            "2022-05-18 20:18:48,668  [INFO]  FPS: 0.7097\n",
            "2022-05-18 20:18:50,128  [INFO]  FPS: 0.7102\n",
            "2022-05-18 20:18:51,566  [INFO]  FPS: 0.7205\n",
            "2022-05-18 20:18:52,987  [INFO]  FPS: 0.7354\n",
            "2022-05-18 20:18:54,469  [INFO]  FPS: 0.7006\n",
            "2022-05-18 20:18:55,878  [INFO]  FPS: 0.7404\n",
            "2022-05-18 20:18:57,359  [INFO]  FPS: 0.7027\n",
            "2022-05-18 20:18:58,811  [INFO]  FPS: 0.7157\n",
            "2022-05-18 20:19:00,265  [INFO]  FPS: 0.7140\n",
            "2022-05-18 20:19:01,685  [INFO]  FPS: 0.7316\n",
            "2022-05-18 20:19:03,132  [INFO]  FPS: 0.7168\n",
            "2022-05-18 20:19:04,597  [INFO]  FPS: 0.7119\n",
            "2022-05-18 20:19:06,073  [INFO]  FPS: 0.7031\n",
            "2022-05-18 20:19:07,530  [INFO]  FPS: 0.7132\n",
            "2022-05-18 20:19:09,024  [INFO]  FPS: 0.6948\n",
            "2022-05-18 20:19:10,512  [INFO]  FPS: 0.6988\n",
            "2022-05-18 20:19:11,960  [INFO]  FPS: 0.7195\n",
            "2022-05-18 20:19:13,437  [INFO]  FPS: 0.7049\n",
            "2022-05-18 20:19:14,909  [INFO]  FPS: 0.7080\n",
            "2022-05-18 20:19:16,375  [INFO]  FPS: 0.7086\n",
            "2022-05-18 20:19:17,812  [INFO]  FPS: 0.7231\n",
            "2022-05-18 20:19:19,291  [INFO]  FPS: 0.7012\n",
            "2022-05-18 20:19:20,770  [INFO]  FPS: 0.7022\n",
            "2022-05-18 20:19:22,196  [INFO]  FPS: 0.7282\n",
            "2022-05-18 20:19:23,669  [INFO]  FPS: 0.7048\n",
            "2022-05-18 20:19:25,132  [INFO]  FPS: 0.7094\n",
            "2022-05-18 20:19:26,611  [INFO]  FPS: 0.7016\n",
            "2022-05-18 20:19:28,059  [INFO]  FPS: 0.7169\n",
            "2022-05-18 20:19:29,523  [INFO]  FPS: 0.7087\n",
            "2022-05-18 20:19:30,988  [INFO]  FPS: 0.7118\n",
            "2022-05-18 20:19:32,448  [INFO]  FPS: 0.7147\n",
            "2022-05-18 20:19:33,908  [INFO]  FPS: 0.7105\n",
            "2022-05-18 20:19:35,345  [INFO]  FPS: 0.7210\n",
            "2022-05-18 20:19:36,782  [INFO]  FPS: 0.7213\n",
            "2022-05-18 20:19:38,235  [INFO]  FPS: 0.7167\n",
            "2022-05-18 20:19:39,641  [INFO]  FPS: 0.7399\n",
            "2022-05-18 20:19:41,079  [INFO]  FPS: 0.7212\n",
            "2022-05-18 20:19:42,495  [INFO]  FPS: 0.7331\n",
            "2022-05-18 20:19:43,940  [INFO]  FPS: 0.7177\n",
            "2022-05-18 20:19:45,390  [INFO]  FPS: 0.7185\n",
            "2022-05-18 20:19:46,827  [INFO]  FPS: 0.7228\n",
            "2022-05-18 20:19:48,268  [INFO]  FPS: 0.7238\n",
            "2022-05-18 20:19:49,726  [INFO]  FPS: 0.7215\n",
            "2022-05-18 20:19:51,205  [INFO]  FPS: 0.7023\n",
            "2022-05-18 20:19:52,625  [INFO]  FPS: 0.7333\n",
            "2022-05-18 20:19:54,075  [INFO]  FPS: 0.7181\n",
            "2022-05-18 20:19:55,499  [INFO]  FPS: 0.7376\n",
            "2022-05-18 20:19:56,906  [INFO]  FPS: 0.7374\n",
            "2022-05-18 20:19:58,333  [INFO]  FPS: 0.7295\n",
            "2022-05-18 20:19:59,728  [INFO]  FPS: 0.7450\n",
            "2022-05-18 20:20:01,124  [INFO]  FPS: 0.7445\n",
            "2022-05-18 20:20:02,512  [INFO]  FPS: 0.7508\n",
            "2022-05-18 20:20:03,909  [INFO]  FPS: 0.7444\n",
            "2022-05-18 20:20:05,341  [INFO]  FPS: 0.7290\n",
            "2022-05-18 20:20:06,751  [INFO]  FPS: 0.7428\n",
            "2022-05-18 20:20:08,135  [INFO]  FPS: 0.7515\n",
            "2022-05-18 20:20:09,536  [INFO]  FPS: 0.7400\n",
            "2022-05-18 20:20:10,985  [INFO]  FPS: 0.7200\n",
            "2022-05-18 20:20:12,383  [INFO]  FPS: 0.7427\n",
            "2022-05-18 20:20:13,793  [INFO]  FPS: 0.7359\n",
            "2022-05-18 20:20:15,211  [INFO]  FPS: 0.7330\n",
            "2022-05-18 20:20:16,616  [INFO]  FPS: 0.7348\n",
            "2022-05-18 20:20:18,034  [INFO]  FPS: 0.7322\n",
            "2022-05-18 20:20:19,433  [INFO]  FPS: 0.7430\n",
            "2022-05-18 20:20:20,887  [INFO]  FPS: 0.7120\n",
            "2022-05-18 20:20:22,313  [INFO]  FPS: 0.7342\n",
            "2022-05-18 20:20:23,723  [INFO]  FPS: 0.7365\n",
            "2022-05-18 20:20:25,140  [INFO]  FPS: 0.7308\n",
            "2022-05-18 20:20:26,576  [INFO]  FPS: 0.7201\n",
            "2022-05-18 20:20:27,988  [INFO]  FPS: 0.7333\n",
            "2022-05-18 20:20:29,397  [INFO]  FPS: 0.7397\n",
            "2022-05-18 20:20:30,807  [INFO]  FPS: 0.7350\n",
            "2022-05-18 20:20:32,206  [INFO]  FPS: 0.7380\n",
            "2022-05-18 20:20:33,623  [INFO]  FPS: 0.7322\n",
            "2022-05-18 20:20:35,021  [INFO]  FPS: 0.7425\n",
            "2022-05-18 20:20:36,490  [INFO]  FPS: 0.7059\n",
            "2022-05-18 20:20:37,945  [INFO]  FPS: 0.7133\n",
            "2022-05-18 20:20:39,437  [INFO]  FPS: 0.7010\n",
            "2022-05-18 20:20:40,897  [INFO]  FPS: 0.7125\n",
            "2022-05-18 20:20:42,323  [INFO]  FPS: 0.7285\n",
            "2022-05-18 20:20:43,785  [INFO]  FPS: 0.7098\n",
            "2022-05-18 20:20:45,285  [INFO]  FPS: 0.6908\n",
            "2022-05-18 20:20:46,761  [INFO]  FPS: 0.7039\n",
            "2022-05-18 20:20:48,182  [INFO]  FPS: 0.7306\n",
            "2022-05-18 20:20:49,638  [INFO]  FPS: 0.7121\n",
            "2022-05-18 20:20:51,085  [INFO]  FPS: 0.7169\n",
            "2022-05-18 20:20:52,534  [INFO]  FPS: 0.7160\n",
            "2022-05-18 20:20:53,966  [INFO]  FPS: 0.7299\n",
            "2022-05-18 20:20:55,430  [INFO]  FPS: 0.7083\n",
            "2022-05-18 20:20:56,855  [INFO]  FPS: 0.7347\n",
            "2022-05-18 20:20:58,272  [INFO]  FPS: 0.7340\n",
            "2022-05-18 20:20:59,751  [INFO]  FPS: 0.7016\n",
            "2022-05-18 20:21:01,168  [INFO]  FPS: 0.7327\n",
            "2022-05-18 20:21:02,639  [INFO]  FPS: 0.7077\n",
            "2022-05-18 20:21:04,094  [INFO]  FPS: 0.7132\n",
            "2022-05-18 20:21:05,525  [INFO]  FPS: 0.7250\n",
            "2022-05-18 20:21:07,001  [INFO]  FPS: 0.7027\n",
            "2022-05-18 20:21:08,440  [INFO]  FPS: 0.7221\n",
            "2022-05-18 20:21:09,871  [INFO]  FPS: 0.7271\n",
            "2022-05-18 20:21:11,368  [INFO]  FPS: 0.6927\n",
            "2022-05-18 20:21:12,847  [INFO]  FPS: 0.7022\n",
            "2022-05-18 20:21:14,325  [INFO]  FPS: 0.7083\n",
            "2022-05-18 20:21:15,762  [INFO]  FPS: 0.7244\n",
            "2022-05-18 20:21:17,216  [INFO]  FPS: 0.7114\n",
            "2022-05-18 20:21:18,626  [INFO]  FPS: 0.7363\n",
            "2022-05-18 20:21:20,063  [INFO]  FPS: 0.7206\n",
            "2022-05-18 20:21:21,507  [INFO]  FPS: 0.7183\n",
            "2022-05-18 20:21:22,923  [INFO]  FPS: 0.7326\n",
            "2022-05-18 20:21:24,344  [INFO]  FPS: 0.7290\n",
            "2022-05-18 20:21:25,778  [INFO]  FPS: 0.7214\n",
            "2022-05-18 20:21:27,214  [INFO]  FPS: 0.7214\n",
            "2022-05-18 20:21:28,641  [INFO]  FPS: 0.7257\n",
            "2022-05-18 20:21:30,035  [INFO]  FPS: 0.7425\n",
            "2022-05-18 20:21:31,461  [INFO]  FPS: 0.7323\n",
            "2022-05-18 20:21:32,907  [INFO]  FPS: 0.7221\n",
            "2022-05-18 20:21:34,341  [INFO]  FPS: 0.7224\n",
            "2022-05-18 20:21:35,800  [INFO]  FPS: 0.7094\n",
            "2022-05-18 20:21:37,254  [INFO]  FPS: 0.7078\n",
            "2022-05-18 20:21:38,697  [INFO]  FPS: 0.7199\n",
            "2022-05-18 20:21:40,095  [INFO]  FPS: 0.7370\n",
            "2022-05-18 20:21:40,132  [INFO]  Reached the end of Video source\n",
            "2022-05-18 20:21:40,147  [INFO]  Process done\n"
          ]
        }
      ]
    }
  ]
}